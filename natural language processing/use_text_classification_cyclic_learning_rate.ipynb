{
  "nbformat": 4,
  "nbformat_minor": 0,
  "metadata": {
    "colab": {
      "name": "use_text_classification_cyclic learning rate.ipynb",
      "provenance": [],
      "collapsed_sections": [],
      "include_colab_link": true
    },
    "kernelspec": {
      "name": "python3",
      "display_name": "Python 3"
    },
    "accelerator": "GPU"
  },
  "cells": [
    {
      "cell_type": "markdown",
      "metadata": {
        "id": "view-in-github",
        "colab_type": "text"
      },
      "source": [
        "<a href=\"https://colab.research.google.com/github/avinashnanda/CategoricalEncodingBenchmark/blob/master/natural%20language%20processing/use_text_classification_cyclic_learning_rate.ipynb\" target=\"_parent\"><img src=\"https://colab.research.google.com/assets/colab-badge.svg\" alt=\"Open In Colab\"/></a>"
      ]
    },
    {
      "cell_type": "code",
      "metadata": {
        "id": "F9WgXyUSFU0-",
        "colab_type": "code",
        "colab": {}
      },
      "source": [
        "import tensorflow as tf\n",
        "import tensorflow_hub as hub\n",
        "import pandas as pd\n",
        "from sklearn import preprocessing\n",
        "import keras\n",
        "import numpy as np\n",
        "from keras.layers import Input, Lambda, Dense, Reshape\n",
        "from keras.models import Model\n",
        "import keras.backend as K\n",
        "import matplotlib.pyplot as plt\n",
        "from learningratefinder import LearningRateFinder\n",
        "from clr_callback import CyclicLR"
      ],
      "execution_count": 0,
      "outputs": []
    },
    {
      "cell_type": "code",
      "metadata": {
        "id": "D4nZRpMEIzpr",
        "colab_type": "code",
        "outputId": "575cf27d-18a7-4607-974d-66ff34c36e7a",
        "colab": {
          "base_uri": "https://localhost:8080/",
          "height": 128
        }
      },
      "source": [
        "## download the cleaned data from earlier word embedding pretrained notebook.\n",
        "\n",
        "from google.colab import drive\n",
        "drive.mount('/content/drive',force_remount=True)"
      ],
      "execution_count": 2,
      "outputs": [
        {
          "output_type": "stream",
          "text": [
            "Go to this URL in a browser: https://accounts.google.com/o/oauth2/auth?client_id=947318989803-6bn6qk8qdgf4n4g3pfee6491hc0brc4i.apps.googleusercontent.com&redirect_uri=urn%3Aietf%3Awg%3Aoauth%3A2.0%3Aoob&scope=email%20https%3A%2F%2Fwww.googleapis.com%2Fauth%2Fdocs.test%20https%3A%2F%2Fwww.googleapis.com%2Fauth%2Fdrive%20https%3A%2F%2Fwww.googleapis.com%2Fauth%2Fdrive.photos.readonly%20https%3A%2F%2Fwww.googleapis.com%2Fauth%2Fpeopleapi.readonly&response_type=code\n",
            "\n",
            "Enter your authorization code:\n",
            "··········\n",
            "Mounted at /content/drive\n"
          ],
          "name": "stdout"
        }
      ]
    },
    {
      "cell_type": "code",
      "metadata": {
        "id": "Lf52t9cSI90w",
        "colab_type": "code",
        "colab": {}
      },
      "source": [
        "!cp \"/content/drive/My Drive/train_clean.csv\" /content\n",
        "!cp \"/content/drive/My Drive/test_clean.csv\" /content"
      ],
      "execution_count": 0,
      "outputs": []
    },
    {
      "cell_type": "code",
      "metadata": {
        "id": "oSvq21D3JDhK",
        "colab_type": "code",
        "colab": {}
      },
      "source": [
        "train = pd.read_csv(\"train_clean.csv\")\n",
        "test_df = pd.read_csv(\"test_clean.csv\")"
      ],
      "execution_count": 0,
      "outputs": []
    },
    {
      "cell_type": "code",
      "metadata": {
        "id": "YUWb8D4hJG1a",
        "colab_type": "code",
        "colab": {}
      },
      "source": [
        "from sklearn.model_selection import train_test_split\n",
        "train_df,val_df = train_test_split(train, test_size=0.20,random_state=2)"
      ],
      "execution_count": 0,
      "outputs": []
    },
    {
      "cell_type": "code",
      "metadata": {
        "id": "ohGE-1CUxnyi",
        "colab_type": "code",
        "colab": {}
      },
      "source": [
        "train_X = np.asarray(train_df[\"clean_text\"].fillna(\"_na_\").values)\n",
        "val_X = np.asarray(val_df[\"clean_text\"].fillna(\"_na_\").values)\n",
        "test_X = np.asarray(test_df[\"clean_text\"].fillna(\"_na_\").values)\n"
      ],
      "execution_count": 0,
      "outputs": []
    },
    {
      "cell_type": "code",
      "metadata": {
        "id": "pjYSEZrM5akA",
        "colab_type": "code",
        "colab": {}
      },
      "source": [
        "train_y = np.asarray(train_df[['toxic', 'severe_toxic', 'obscene', 'threat','insult', 'identity_hate']].values)\n",
        "val_y = np.asarray(val_df[['toxic', 'severe_toxic', 'obscene', 'threat','insult', 'identity_hate']].values)"
      ],
      "execution_count": 0,
      "outputs": []
    },
    {
      "cell_type": "code",
      "metadata": {
        "id": "CzGKsZwjqKUB",
        "colab_type": "code",
        "colab": {}
      },
      "source": [
        "url = \"https://tfhub.dev/google/universal-sentence-encoder-large/3\"\n",
        "embed = hub.Module(url)"
      ],
      "execution_count": 0,
      "outputs": []
    },
    {
      "cell_type": "code",
      "metadata": {
        "id": "Ik1KIuQnrL20",
        "colab_type": "code",
        "colab": {}
      },
      "source": [
        "def UniversalEmbedding(x):\n",
        "    return embed(tf.squeeze(tf.cast(x, tf.string)))"
      ],
      "execution_count": 0,
      "outputs": []
    },
    {
      "cell_type": "code",
      "metadata": {
        "id": "05PsQ-tQtb1C",
        "colab_type": "code",
        "colab": {}
      },
      "source": [
        "# saving only weights as keras is failing to load custom attention layer\n",
        "from keras.callbacks import ModelCheckpoint,EarlyStopping\n",
        "checkpoint = ModelCheckpoint(\n",
        "    'model.h5', \n",
        "    monitor='val_loss', \n",
        "    verbose=1, \n",
        "    save_best_only=True, \n",
        "    save_weights_only=True,\n",
        "    mode='auto'\n",
        ")\n",
        "\n",
        "early_stop = EarlyStopping(\n",
        "        monitor     = 'val_loss', \n",
        "        patience    = 3, \n",
        "        mode        = 'auto', \n",
        "        verbose     = 1,\n",
        "    restore_best_weights = True\n",
        "    \n",
        "    )"
      ],
      "execution_count": 0,
      "outputs": []
    },
    {
      "cell_type": "code",
      "metadata": {
        "id": "ZIr6jwhKqKRb",
        "colab_type": "code",
        "outputId": "4b795d86-793c-4b2a-a655-c98e3fb7a6ca",
        "colab": {
          "base_uri": "https://localhost:8080/",
          "height": 892
        }
      },
      "source": [
        "inp = Input(shape=(1,), dtype=tf.string)\n",
        "x = Lambda(UniversalEmbedding, output_shape=(512, ))(inp)\n",
        "x = Dense(256, activation=\"relu\")(x)\n",
        "x = Dense(64, activation=\"relu\")(x)\n",
        "x = Dense(6, activation=\"sigmoid\")(x)\n",
        "model = Model(inputs=inp, outputs=x)\n",
        "model.compile(loss='binary_crossentropy', optimizer='adam', metrics=['accuracy'])\n",
        "\n",
        "print(model.summary())"
      ],
      "execution_count": 9,
      "outputs": [
        {
          "output_type": "stream",
          "text": [
            "WARNING:tensorflow:From /usr/local/lib/python3.6/dist-packages/keras/backend/tensorflow_backend.py:66: The name tf.get_default_graph is deprecated. Please use tf.compat.v1.get_default_graph instead.\n",
            "\n"
          ],
          "name": "stdout"
        },
        {
          "output_type": "stream",
          "text": [
            "WARNING:tensorflow:From /usr/local/lib/python3.6/dist-packages/keras/backend/tensorflow_backend.py:66: The name tf.get_default_graph is deprecated. Please use tf.compat.v1.get_default_graph instead.\n",
            "\n"
          ],
          "name": "stderr"
        },
        {
          "output_type": "stream",
          "text": [
            "WARNING:tensorflow:From /usr/local/lib/python3.6/dist-packages/keras/backend/tensorflow_backend.py:541: The name tf.placeholder is deprecated. Please use tf.compat.v1.placeholder instead.\n",
            "\n"
          ],
          "name": "stdout"
        },
        {
          "output_type": "stream",
          "text": [
            "WARNING:tensorflow:From /usr/local/lib/python3.6/dist-packages/keras/backend/tensorflow_backend.py:541: The name tf.placeholder is deprecated. Please use tf.compat.v1.placeholder instead.\n",
            "\n"
          ],
          "name": "stderr"
        },
        {
          "output_type": "stream",
          "text": [
            "INFO:tensorflow:Saver not created because there are no variables in the graph to restore\n"
          ],
          "name": "stdout"
        },
        {
          "output_type": "stream",
          "text": [
            "INFO:tensorflow:Saver not created because there are no variables in the graph to restore\n"
          ],
          "name": "stderr"
        },
        {
          "output_type": "stream",
          "text": [
            "WARNING:tensorflow:From /usr/local/lib/python3.6/dist-packages/keras/backend/tensorflow_backend.py:4432: The name tf.random_uniform is deprecated. Please use tf.random.uniform instead.\n",
            "\n"
          ],
          "name": "stdout"
        },
        {
          "output_type": "stream",
          "text": [
            "WARNING:tensorflow:From /usr/local/lib/python3.6/dist-packages/keras/backend/tensorflow_backend.py:4432: The name tf.random_uniform is deprecated. Please use tf.random.uniform instead.\n",
            "\n"
          ],
          "name": "stderr"
        },
        {
          "output_type": "stream",
          "text": [
            "WARNING:tensorflow:From /usr/local/lib/python3.6/dist-packages/keras/optimizers.py:793: The name tf.train.Optimizer is deprecated. Please use tf.compat.v1.train.Optimizer instead.\n",
            "\n"
          ],
          "name": "stdout"
        },
        {
          "output_type": "stream",
          "text": [
            "WARNING:tensorflow:From /usr/local/lib/python3.6/dist-packages/keras/optimizers.py:793: The name tf.train.Optimizer is deprecated. Please use tf.compat.v1.train.Optimizer instead.\n",
            "\n"
          ],
          "name": "stderr"
        },
        {
          "output_type": "stream",
          "text": [
            "WARNING:tensorflow:From /usr/local/lib/python3.6/dist-packages/keras/backend/tensorflow_backend.py:3657: The name tf.log is deprecated. Please use tf.math.log instead.\n",
            "\n"
          ],
          "name": "stdout"
        },
        {
          "output_type": "stream",
          "text": [
            "WARNING:tensorflow:From /usr/local/lib/python3.6/dist-packages/keras/backend/tensorflow_backend.py:3657: The name tf.log is deprecated. Please use tf.math.log instead.\n",
            "\n"
          ],
          "name": "stderr"
        },
        {
          "output_type": "stream",
          "text": [
            "WARNING:tensorflow:From /usr/local/lib/python3.6/dist-packages/tensorflow_core/python/ops/nn_impl.py:183: where (from tensorflow.python.ops.array_ops) is deprecated and will be removed in a future version.\n",
            "Instructions for updating:\n",
            "Use tf.where in 2.0, which has the same broadcast rule as np.where\n"
          ],
          "name": "stdout"
        },
        {
          "output_type": "stream",
          "text": [
            "WARNING:tensorflow:From /usr/local/lib/python3.6/dist-packages/tensorflow_core/python/ops/nn_impl.py:183: where (from tensorflow.python.ops.array_ops) is deprecated and will be removed in a future version.\n",
            "Instructions for updating:\n",
            "Use tf.where in 2.0, which has the same broadcast rule as np.where\n"
          ],
          "name": "stderr"
        },
        {
          "output_type": "stream",
          "text": [
            "Model: \"model_1\"\n",
            "_________________________________________________________________\n",
            "Layer (type)                 Output Shape              Param #   \n",
            "=================================================================\n",
            "input_1 (InputLayer)         (None, 1)                 0         \n",
            "_________________________________________________________________\n",
            "lambda_1 (Lambda)            (None, 512)               0         \n",
            "_________________________________________________________________\n",
            "dense_1 (Dense)              (None, 256)               131328    \n",
            "_________________________________________________________________\n",
            "dense_2 (Dense)              (None, 64)                16448     \n",
            "_________________________________________________________________\n",
            "dense_3 (Dense)              (None, 6)                 390       \n",
            "=================================================================\n",
            "Total params: 148,166\n",
            "Trainable params: 148,166\n",
            "Non-trainable params: 0\n",
            "_________________________________________________________________\n",
            "None\n"
          ],
          "name": "stdout"
        }
      ]
    },
    {
      "cell_type": "code",
      "metadata": {
        "id": "BW9kKaEzLulV",
        "colab_type": "code",
        "colab": {
          "base_uri": "https://localhost:8080/",
          "height": 1000
        },
        "outputId": "bc9f6be6-885b-4eaf-df43-92b16cb01a68"
      },
      "source": [
        "print(\"[INFO] finding learning rate...\")\n",
        "with tf.Session() as session:\n",
        "    K.set_session(session)\n",
        "    session.run(tf.global_variables_initializer())  \n",
        "    session.run(tf.tables_initializer())\n",
        "    lrf = LearningRateFinder(model)\n",
        "    lrf.find((train_X[1:40000], train_y[1:40000]),1e-10, 1e+1,epochs=30,\n",
        "            stepsPerEpoch=np.ceil((len(train_X[1:40000]) / float(2048))),\n",
        "            batchSize=2048)"
      ],
      "execution_count": 10,
      "outputs": [
        {
          "output_type": "stream",
          "text": [
            "[INFO] finding learning rate...\n",
            "WARNING:tensorflow:From /usr/local/lib/python3.6/dist-packages/keras/backend/tensorflow_backend.py:190: The name tf.get_default_session is deprecated. Please use tf.compat.v1.get_default_session instead.\n",
            "\n"
          ],
          "name": "stdout"
        },
        {
          "output_type": "stream",
          "text": [
            "WARNING:tensorflow:From /usr/local/lib/python3.6/dist-packages/keras/backend/tensorflow_backend.py:190: The name tf.get_default_session is deprecated. Please use tf.compat.v1.get_default_session instead.\n",
            "\n"
          ],
          "name": "stderr"
        },
        {
          "output_type": "stream",
          "text": [
            "WARNING:tensorflow:From /usr/local/lib/python3.6/dist-packages/keras/backend/tensorflow_backend.py:207: The name tf.global_variables is deprecated. Please use tf.compat.v1.global_variables instead.\n",
            "\n"
          ],
          "name": "stdout"
        },
        {
          "output_type": "stream",
          "text": [
            "WARNING:tensorflow:From /usr/local/lib/python3.6/dist-packages/keras/backend/tensorflow_backend.py:207: The name tf.global_variables is deprecated. Please use tf.compat.v1.global_variables instead.\n",
            "\n"
          ],
          "name": "stderr"
        },
        {
          "output_type": "stream",
          "text": [
            "WARNING:tensorflow:From /usr/local/lib/python3.6/dist-packages/keras/backend/tensorflow_backend.py:216: The name tf.is_variable_initialized is deprecated. Please use tf.compat.v1.is_variable_initialized instead.\n",
            "\n"
          ],
          "name": "stdout"
        },
        {
          "output_type": "stream",
          "text": [
            "WARNING:tensorflow:From /usr/local/lib/python3.6/dist-packages/keras/backend/tensorflow_backend.py:216: The name tf.is_variable_initialized is deprecated. Please use tf.compat.v1.is_variable_initialized instead.\n",
            "\n"
          ],
          "name": "stderr"
        },
        {
          "output_type": "stream",
          "text": [
            "WARNING:tensorflow:From /usr/local/lib/python3.6/dist-packages/keras/backend/tensorflow_backend.py:1033: The name tf.assign_add is deprecated. Please use tf.compat.v1.assign_add instead.\n",
            "\n"
          ],
          "name": "stdout"
        },
        {
          "output_type": "stream",
          "text": [
            "WARNING:tensorflow:From /usr/local/lib/python3.6/dist-packages/keras/backend/tensorflow_backend.py:1033: The name tf.assign_add is deprecated. Please use tf.compat.v1.assign_add instead.\n",
            "\n"
          ],
          "name": "stderr"
        },
        {
          "output_type": "stream",
          "text": [
            "WARNING:tensorflow:From /usr/local/lib/python3.6/dist-packages/keras/backend/tensorflow_backend.py:1020: The name tf.assign is deprecated. Please use tf.compat.v1.assign instead.\n",
            "\n"
          ],
          "name": "stdout"
        },
        {
          "output_type": "stream",
          "text": [
            "WARNING:tensorflow:From /usr/local/lib/python3.6/dist-packages/keras/backend/tensorflow_backend.py:1020: The name tf.assign is deprecated. Please use tf.compat.v1.assign instead.\n",
            "\n"
          ],
          "name": "stderr"
        },
        {
          "output_type": "stream",
          "text": [
            "Epoch 1/30\n",
            "WARNING:tensorflow:From /usr/local/lib/python3.6/dist-packages/keras/backend/tensorflow_backend.py:223: The name tf.variables_initializer is deprecated. Please use tf.compat.v1.variables_initializer instead.\n",
            "\n"
          ],
          "name": "stdout"
        },
        {
          "output_type": "stream",
          "text": [
            "WARNING:tensorflow:From /usr/local/lib/python3.6/dist-packages/keras/backend/tensorflow_backend.py:223: The name tf.variables_initializer is deprecated. Please use tf.compat.v1.variables_initializer instead.\n",
            "\n"
          ],
          "name": "stderr"
        },
        {
          "output_type": "stream",
          "text": [
            "39999/39999 [==============================] - 95s 2ms/step - loss: 0.6954 - acc: 0.4494\n",
            "Epoch 2/30\n",
            "39999/39999 [==============================] - 93s 2ms/step - loss: 0.6954 - acc: 0.4494\n",
            "Epoch 3/30\n",
            "39999/39999 [==============================] - 93s 2ms/step - loss: 0.6954 - acc: 0.4494\n",
            "Epoch 4/30\n",
            "39999/39999 [==============================] - 93s 2ms/step - loss: 0.6954 - acc: 0.4494\n",
            "Epoch 5/30\n",
            "39999/39999 [==============================] - 93s 2ms/step - loss: 0.6954 - acc: 0.4494\n",
            "Epoch 6/30\n",
            "39999/39999 [==============================] - 93s 2ms/step - loss: 0.6954 - acc: 0.4495\n",
            "Epoch 7/30\n",
            "39999/39999 [==============================] - 93s 2ms/step - loss: 0.6953 - acc: 0.4496\n",
            "Epoch 8/30\n",
            "39999/39999 [==============================] - 93s 2ms/step - loss: 0.6953 - acc: 0.4499\n",
            "Epoch 9/30\n",
            "39999/39999 [==============================] - 93s 2ms/step - loss: 0.6953 - acc: 0.4504\n",
            "Epoch 10/30\n",
            "39999/39999 [==============================] - 93s 2ms/step - loss: 0.6952 - acc: 0.4518\n",
            "Epoch 11/30\n",
            "39999/39999 [==============================] - 93s 2ms/step - loss: 0.6951 - acc: 0.4548\n",
            "Epoch 12/30\n",
            "39999/39999 [==============================] - 93s 2ms/step - loss: 0.6947 - acc: 0.4619\n",
            "Epoch 13/30\n",
            "39999/39999 [==============================] - 93s 2ms/step - loss: 0.6939 - acc: 0.4789\n",
            "Epoch 14/30\n",
            "39999/39999 [==============================] - 93s 2ms/step - loss: 0.6920 - acc: 0.5193\n",
            "Epoch 15/30\n",
            "39999/39999 [==============================] - 93s 2ms/step - loss: 0.6876 - acc: 0.6140\n",
            "Epoch 16/30\n",
            "39999/39999 [==============================] - 94s 2ms/step - loss: 0.6762 - acc: 0.7938\n",
            "Epoch 17/30\n",
            "39999/39999 [==============================] - 94s 2ms/step - loss: 0.6337 - acc: 0.9315\n",
            "Epoch 18/30\n",
            "39999/39999 [==============================] - 94s 2ms/step - loss: 0.4227 - acc: 0.9637\n",
            "Epoch 19/30\n",
            "39999/39999 [==============================] - 94s 2ms/step - loss: 0.1424 - acc: 0.9637\n",
            "Epoch 20/30\n",
            "39999/39999 [==============================] - 94s 2ms/step - loss: 0.0945 - acc: 0.9656\n",
            "Epoch 21/30\n",
            "39999/39999 [==============================] - 93s 2ms/step - loss: 0.0682 - acc: 0.9744\n",
            "Epoch 22/30\n",
            "39999/39999 [==============================] - 94s 2ms/step - loss: 0.0580 - acc: 0.9791\n",
            "Epoch 23/30\n",
            "39999/39999 [==============================] - 94s 2ms/step - loss: 0.0548 - acc: 0.9800\n",
            "Epoch 24/30\n",
            "39999/39999 [==============================] - 94s 2ms/step - loss: 0.0525 - acc: 0.9811\n",
            "Epoch 25/30\n",
            "39999/39999 [==============================] - 94s 2ms/step - loss: 0.0624 - acc: 0.9787\n",
            "Epoch 26/30\n",
            "39999/39999 [==============================] - 94s 2ms/step - loss: 0.0577 - acc: 0.9790\n",
            "Epoch 27/30\n",
            "39999/39999 [==============================] - 93s 2ms/step - loss: 0.0661 - acc: 0.9782\n",
            "Epoch 28/30\n",
            "39999/39999 [==============================] - 93s 2ms/step - loss: 0.4277 - acc: 0.9635\n",
            "Epoch 29/30\n",
            "28672/39999 [====================>.........] - ETA: 26s - loss: 0.7660 - acc: 0.9523"
          ],
          "name": "stdout"
        }
      ]
    },
    {
      "cell_type": "code",
      "metadata": {
        "id": "aYGIdEkbYhRJ",
        "colab_type": "code",
        "colab": {
          "base_uri": "https://localhost:8080/",
          "height": 283
        },
        "outputId": "9c377f54-2df7-42f1-9f90-110e6b0ac874"
      },
      "source": [
        "lrf.plot_loss()"
      ],
      "execution_count": 11,
      "outputs": [
        {
          "output_type": "display_data",
          "data": {
            "image/png": "[encoded data removed]",
            "text/plain": [
              "<Figure size 432x288 with 1 Axes>"
            ]
          },
          "metadata": {
            "tags": []
          }
        }
      ]
    },
    {
      "cell_type": "code",
      "metadata": {
        "id": "R2ap9X6aYhO4",
        "colab_type": "code",
        "colab": {}
      },
      "source": [
        "MIN_LR = 1e-5\n",
        "MAX_LR = 1e-2\n",
        "BATCH_SIZE = 2048\n",
        "STEP_SIZE = 8\n",
        "CLR_METHOD = \"triangular\"\n",
        "NUM_EPOCHS = 48"
      ],
      "execution_count": 0,
      "outputs": []
    },
    {
      "cell_type": "code",
      "metadata": {
        "id": "p7EtI1wuYhMI",
        "colab_type": "code",
        "colab": {
          "base_uri": "https://localhost:8080/",
          "height": 945
        },
        "outputId": "e1c265bf-5c07-4c2f-eca8-10a4a52b8e6d"
      },
      "source": [
        "# otherwise, we have already defined a learning rate space to train\n",
        "# over, so compute the step size and initialize the cyclic learning\n",
        "# rate method\n",
        "stepSize = STEP_SIZE * (train_X.shape[0] // BATCH_SIZE)\n",
        "clr = CyclicLR(\n",
        "\tmode=CLR_METHOD,\n",
        "\tbase_lr=MIN_LR,\n",
        "\tmax_lr=MAX_LR,\n",
        "\tstep_size=stepSize)\n",
        " \n",
        "with tf.Session() as session:\n",
        "    K.set_session(session)\n",
        "    session.run(tf.global_variables_initializer())  \n",
        "    session.run(tf.tables_initializer())\n",
        "    history =  model.fit(train_X,train_y, batch_size=2048, epochs=30,validation_data=(val_X, val_y),callbacks = [checkpoint,early_stop,clr])"
      ],
      "execution_count": 15,
      "outputs": [
        {
          "output_type": "stream",
          "text": [
            "Train on 127656 samples, validate on 31915 samples\n",
            "Epoch 1/30\n",
            "127656/127656 [==============================] - 373s 3ms/step - loss: 0.4280 - acc: 0.8819 - val_loss: 0.1135 - val_acc: 0.9633\n",
            "\n",
            "Epoch 00001: val_loss improved from inf to 0.11351, saving model to model.h5\n",
            "Epoch 2/30\n",
            "127656/127656 [==============================] - 371s 3ms/step - loss: 0.0769 - acc: 0.9723 - val_loss: 0.0602 - val_acc: 0.9783\n",
            "\n",
            "Epoch 00002: val_loss improved from 0.11351 to 0.06016, saving model to model.h5\n",
            "Epoch 3/30\n",
            "127656/127656 [==============================] - 371s 3ms/step - loss: 0.0571 - acc: 0.9793 - val_loss: 0.0553 - val_acc: 0.9795\n",
            "\n",
            "Epoch 00003: val_loss improved from 0.06016 to 0.05531, saving model to model.h5\n",
            "Epoch 4/30\n",
            "127656/127656 [==============================] - 372s 3ms/step - loss: 0.0535 - acc: 0.9802 - val_loss: 0.0536 - val_acc: 0.9797\n",
            "\n",
            "Epoch 00004: val_loss improved from 0.05531 to 0.05365, saving model to model.h5\n",
            "Epoch 5/30\n",
            "127656/127656 [==============================] - 371s 3ms/step - loss: 0.0517 - acc: 0.9806 - val_loss: 0.0535 - val_acc: 0.9796\n",
            "\n",
            "Epoch 00005: val_loss improved from 0.05365 to 0.05352, saving model to model.h5\n",
            "Epoch 6/30\n",
            "127656/127656 [==============================] - 372s 3ms/step - loss: 0.0506 - acc: 0.9809 - val_loss: 0.0515 - val_acc: 0.9803\n",
            "\n",
            "Epoch 00006: val_loss improved from 0.05352 to 0.05150, saving model to model.h5\n",
            "Epoch 7/30\n",
            "127656/127656 [==============================] - 372s 3ms/step - loss: 0.0494 - acc: 0.9813 - val_loss: 0.0506 - val_acc: 0.9806\n",
            "\n",
            "Epoch 00007: val_loss improved from 0.05150 to 0.05062, saving model to model.h5\n",
            "Epoch 8/30\n",
            "127656/127656 [==============================] - 372s 3ms/step - loss: 0.0486 - acc: 0.9815 - val_loss: 0.0509 - val_acc: 0.9803\n",
            "\n",
            "Epoch 00008: val_loss did not improve from 0.05062\n",
            "Epoch 9/30\n",
            "127656/127656 [==============================] - 371s 3ms/step - loss: 0.0466 - acc: 0.9823 - val_loss: 0.0502 - val_acc: 0.9807\n",
            "\n",
            "Epoch 00009: val_loss improved from 0.05062 to 0.05025, saving model to model.h5\n",
            "Epoch 10/30\n",
            "127656/127656 [==============================] - 371s 3ms/step - loss: 0.0442 - acc: 0.9831 - val_loss: 0.0515 - val_acc: 0.9804\n",
            "\n",
            "Epoch 00010: val_loss did not improve from 0.05025\n",
            "Epoch 11/30\n",
            "127656/127656 [==============================] - 371s 3ms/step - loss: 0.0425 - acc: 0.9836 - val_loss: 0.0520 - val_acc: 0.9801\n",
            "\n",
            "Epoch 00011: val_loss did not improve from 0.05025\n",
            "Epoch 12/30\n",
            "127656/127656 [==============================] - 372s 3ms/step - loss: 0.0409 - acc: 0.9843 - val_loss: 0.0528 - val_acc: 0.9801\n",
            "\n",
            "Epoch 00012: val_loss did not improve from 0.05025\n",
            "Restoring model weights from the end of the best epoch\n",
            "Epoch 00012: early stopping\n"
          ],
          "name": "stdout"
        }
      ]
    },
    {
      "cell_type": "code",
      "metadata": {
        "id": "ffOYeG8IYhJi",
        "colab_type": "code",
        "colab": {
          "base_uri": "https://localhost:8080/",
          "height": 295
        },
        "outputId": "413ed060-e645-4bd7-bd44-b02e021cc50a"
      },
      "source": [
        "def plot_loss(history):\n",
        "    plt.plot(history.history['loss'])\n",
        "    plt.plot(history.history['val_loss'])\n",
        "    plt.title('Model Loss')\n",
        "    plt.ylabel('loss')\n",
        "    plt.xlabel('epoch')\n",
        "    plt.legend(['Train, Test'], loc=0)\n",
        "    \n",
        "def plot_acc(history):\n",
        "    plt.plot(history.history['acc'])\n",
        "    plt.plot(history.history['val_acc'])\n",
        "    plt.title('Model accuracy')\n",
        "    plt.ylabel('Accuracy')\n",
        "    plt.xlabel('epoch')\n",
        "    plt.legend(['Train, Test'], loc=0)\n",
        "\n",
        "plot_acc(history)\n",
        "\n"
      ],
      "execution_count": 18,
      "outputs": [
        {
          "output_type": "display_data",
          "data": {
            "image/png": "[encoded data removed]",
            "text/plain": [
              "<Figure size 432x288 with 1 Axes>"
            ]
          },
          "metadata": {
            "tags": []
          }
        }
      ]
    },
    {
      "cell_type": "code",
      "metadata": {
        "id": "IOBGgf5N4g4X",
        "colab_type": "code",
        "colab": {}
      },
      "source": [
        "list_classes = ['toxic', 'severe_toxic', 'obscene', 'threat','insult', 'identity_hate']"
      ],
      "execution_count": 0,
      "outputs": []
    },
    {
      "cell_type": "code",
      "metadata": {
        "id": "tYte6tjp4g19",
        "colab_type": "code",
        "colab": {
          "base_uri": "https://localhost:8080/",
          "height": 35
        },
        "outputId": "aa12cad4-4beb-4e4b-e846-214d3c636623"
      },
      "source": [
        "\n",
        "with tf.Session() as session:\n",
        "    K.set_session(session)\n",
        "    session.run(tf.global_variables_initializer())\n",
        "    session.run(tf.tables_initializer())\n",
        "    model.load_weights(\"/content/model.h5\")  \n",
        "\n",
        "    y_test2 = model.predict([test_X], batch_size=3072, verbose=1)\n",
        "    sample_submission = pd.read_csv('sample_submission.csv')\n",
        "    sample_submission[list_classes] = y_test2\n",
        "    sample_submission.to_csv('submission333.csv', index=False)"
      ],
      "execution_count": 20,
      "outputs": [
        {
          "output_type": "stream",
          "text": [
            "153164/153164 [==============================] - 353s 2ms/step\n"
          ],
          "name": "stdout"
        }
      ]
    },
    {
      "cell_type": "code",
      "metadata": {
        "id": "C7TBKMSr4gyU",
        "colab_type": "code",
        "colab": {}
      },
      "source": [
        ""
      ],
      "execution_count": 0,
      "outputs": []
    },
    {
      "cell_type": "code",
      "metadata": {
        "id": "CSJ00Um6yC-F",
        "colab_type": "code",
        "outputId": "949b5d7b-32fa-4712-83b4-c300afe9452a",
        "colab": {
          "base_uri": "https://localhost:8080/",
          "height": 1000
        }
      },
      "source": [
        "with tf.Session() as session:\n",
        "    K.set_session(session)\n",
        "    session.run(tf.global_variables_initializer())  \n",
        "    session.run(tf.tables_initializer())\n",
        "    history =  model.fit(train_X,train_y, batch_size=2048, epochs=30,validation_data=(val_X, val_y),callbacks = [checkpoint,early_stop])"
      ],
      "execution_count": 12,
      "outputs": [
        {
          "output_type": "stream",
          "text": [
            "WARNING:tensorflow:From /usr/local/lib/python3.6/dist-packages/keras/backend/tensorflow_backend.py:1033: The name tf.assign_add is deprecated. Please use tf.compat.v1.assign_add instead.\n",
            "\n"
          ],
          "name": "stdout"
        },
        {
          "output_type": "stream",
          "text": [
            "WARNING:tensorflow:From /usr/local/lib/python3.6/dist-packages/keras/backend/tensorflow_backend.py:1033: The name tf.assign_add is deprecated. Please use tf.compat.v1.assign_add instead.\n",
            "\n"
          ],
          "name": "stderr"
        },
        {
          "output_type": "stream",
          "text": [
            "WARNING:tensorflow:From /usr/local/lib/python3.6/dist-packages/keras/backend/tensorflow_backend.py:1020: The name tf.assign is deprecated. Please use tf.compat.v1.assign instead.\n",
            "\n"
          ],
          "name": "stdout"
        },
        {
          "output_type": "stream",
          "text": [
            "WARNING:tensorflow:From /usr/local/lib/python3.6/dist-packages/keras/backend/tensorflow_backend.py:1020: The name tf.assign is deprecated. Please use tf.compat.v1.assign instead.\n",
            "\n"
          ],
          "name": "stderr"
        },
        {
          "output_type": "stream",
          "text": [
            "Train on 127656 samples, validate on 31915 samples\n",
            "Epoch 1/30\n",
            "WARNING:tensorflow:From /usr/local/lib/python3.6/dist-packages/keras/backend/tensorflow_backend.py:190: The name tf.get_default_session is deprecated. Please use tf.compat.v1.get_default_session instead.\n",
            "\n"
          ],
          "name": "stdout"
        },
        {
          "output_type": "stream",
          "text": [
            "WARNING:tensorflow:From /usr/local/lib/python3.6/dist-packages/keras/backend/tensorflow_backend.py:190: The name tf.get_default_session is deprecated. Please use tf.compat.v1.get_default_session instead.\n",
            "\n"
          ],
          "name": "stderr"
        },
        {
          "output_type": "stream",
          "text": [
            "WARNING:tensorflow:From /usr/local/lib/python3.6/dist-packages/keras/backend/tensorflow_backend.py:207: The name tf.global_variables is deprecated. Please use tf.compat.v1.global_variables instead.\n",
            "\n"
          ],
          "name": "stdout"
        },
        {
          "output_type": "stream",
          "text": [
            "WARNING:tensorflow:From /usr/local/lib/python3.6/dist-packages/keras/backend/tensorflow_backend.py:207: The name tf.global_variables is deprecated. Please use tf.compat.v1.global_variables instead.\n",
            "\n"
          ],
          "name": "stderr"
        },
        {
          "output_type": "stream",
          "text": [
            "WARNING:tensorflow:From /usr/local/lib/python3.6/dist-packages/keras/backend/tensorflow_backend.py:216: The name tf.is_variable_initialized is deprecated. Please use tf.compat.v1.is_variable_initialized instead.\n",
            "\n"
          ],
          "name": "stdout"
        },
        {
          "output_type": "stream",
          "text": [
            "WARNING:tensorflow:From /usr/local/lib/python3.6/dist-packages/keras/backend/tensorflow_backend.py:216: The name tf.is_variable_initialized is deprecated. Please use tf.compat.v1.is_variable_initialized instead.\n",
            "\n"
          ],
          "name": "stderr"
        },
        {
          "output_type": "stream",
          "text": [
            "WARNING:tensorflow:From /usr/local/lib/python3.6/dist-packages/keras/backend/tensorflow_backend.py:223: The name tf.variables_initializer is deprecated. Please use tf.compat.v1.variables_initializer instead.\n",
            "\n"
          ],
          "name": "stdout"
        },
        {
          "output_type": "stream",
          "text": [
            "WARNING:tensorflow:From /usr/local/lib/python3.6/dist-packages/keras/backend/tensorflow_backend.py:223: The name tf.variables_initializer is deprecated. Please use tf.compat.v1.variables_initializer instead.\n",
            "\n"
          ],
          "name": "stderr"
        },
        {
          "output_type": "stream",
          "text": [
            "127656/127656 [==============================] - 373s 3ms/step - loss: 0.2422 - acc: 0.9505 - val_loss: 0.0883 - val_acc: 0.9673\n",
            "\n",
            "Epoch 00001: val_loss improved from inf to 0.08827, saving model to model.h5\n",
            "Epoch 2/30\n",
            "127656/127656 [==============================] - 371s 3ms/step - loss: 0.0714 - acc: 0.9746 - val_loss: 0.0625 - val_acc: 0.9778\n",
            "\n",
            "Epoch 00002: val_loss improved from 0.08827 to 0.06254, saving model to model.h5\n",
            "Epoch 3/30\n",
            "127656/127656 [==============================] - 371s 3ms/step - loss: 0.0594 - acc: 0.9786 - val_loss: 0.0579 - val_acc: 0.9788\n",
            "\n",
            "Epoch 00003: val_loss improved from 0.06254 to 0.05793, saving model to model.h5\n",
            "Epoch 4/30\n",
            "127656/127656 [==============================] - 371s 3ms/step - loss: 0.0565 - acc: 0.9792 - val_loss: 0.0559 - val_acc: 0.9792\n",
            "\n",
            "Epoch 00004: val_loss improved from 0.05793 to 0.05588, saving model to model.h5\n",
            "Epoch 5/30\n",
            "127656/127656 [==============================] - 373s 3ms/step - loss: 0.0548 - acc: 0.9796 - val_loss: 0.0546 - val_acc: 0.9795\n",
            "\n",
            "Epoch 00005: val_loss improved from 0.05588 to 0.05463, saving model to model.h5\n",
            "Epoch 6/30\n",
            "127656/127656 [==============================] - 374s 3ms/step - loss: 0.0535 - acc: 0.9802 - val_loss: 0.0538 - val_acc: 0.9797\n",
            "\n",
            "Epoch 00006: val_loss improved from 0.05463 to 0.05380, saving model to model.h5\n",
            "Epoch 7/30\n",
            "127656/127656 [==============================] - 374s 3ms/step - loss: 0.0526 - acc: 0.9804 - val_loss: 0.0530 - val_acc: 0.9799\n",
            "\n",
            "Epoch 00007: val_loss improved from 0.05380 to 0.05297, saving model to model.h5\n",
            "Epoch 8/30\n",
            "127656/127656 [==============================] - 374s 3ms/step - loss: 0.0518 - acc: 0.9806 - val_loss: 0.0526 - val_acc: 0.9800\n",
            "\n",
            "Epoch 00008: val_loss improved from 0.05297 to 0.05256, saving model to model.h5\n",
            "Epoch 9/30\n",
            "127656/127656 [==============================] - 374s 3ms/step - loss: 0.0511 - acc: 0.9808 - val_loss: 0.0520 - val_acc: 0.9802\n",
            "\n",
            "Epoch 00009: val_loss improved from 0.05256 to 0.05204, saving model to model.h5\n",
            "Epoch 10/30\n",
            "127656/127656 [==============================] - 375s 3ms/step - loss: 0.0506 - acc: 0.9810 - val_loss: 0.0520 - val_acc: 0.9801\n",
            "\n",
            "Epoch 00010: val_loss improved from 0.05204 to 0.05195, saving model to model.h5\n",
            "Epoch 11/30\n",
            "127656/127656 [==============================] - 375s 3ms/step - loss: 0.0500 - acc: 0.9812 - val_loss: 0.0513 - val_acc: 0.9801\n",
            "\n",
            "Epoch 00011: val_loss improved from 0.05195 to 0.05133, saving model to model.h5\n",
            "Epoch 12/30\n",
            "127656/127656 [==============================] - 373s 3ms/step - loss: 0.0494 - acc: 0.9814 - val_loss: 0.0508 - val_acc: 0.9805\n",
            "\n",
            "Epoch 00012: val_loss improved from 0.05133 to 0.05083, saving model to model.h5\n",
            "Epoch 13/30\n",
            "127656/127656 [==============================] - 374s 3ms/step - loss: 0.0488 - acc: 0.9816 - val_loss: 0.0508 - val_acc: 0.9804\n",
            "\n",
            "Epoch 00013: val_loss improved from 0.05083 to 0.05076, saving model to model.h5\n",
            "Epoch 14/30\n",
            "127656/127656 [==============================] - 371s 3ms/step - loss: 0.0483 - acc: 0.9817 - val_loss: 0.0503 - val_acc: 0.9806\n",
            "\n",
            "Epoch 00014: val_loss improved from 0.05076 to 0.05034, saving model to model.h5\n",
            "Epoch 15/30\n",
            "127656/127656 [==============================] - 371s 3ms/step - loss: 0.0477 - acc: 0.9818 - val_loss: 0.0502 - val_acc: 0.9807\n",
            "\n",
            "Epoch 00015: val_loss improved from 0.05034 to 0.05018, saving model to model.h5\n",
            "Epoch 16/30\n",
            "127656/127656 [==============================] - 371s 3ms/step - loss: 0.0472 - acc: 0.9821 - val_loss: 0.0500 - val_acc: 0.9806\n",
            "\n",
            "Epoch 00016: val_loss improved from 0.05018 to 0.05002, saving model to model.h5\n",
            "Epoch 17/30\n",
            "127656/127656 [==============================] - 371s 3ms/step - loss: 0.0466 - acc: 0.9821 - val_loss: 0.0501 - val_acc: 0.9806\n",
            "\n",
            "Epoch 00017: val_loss did not improve from 0.05002\n",
            "Epoch 18/30\n",
            "127656/127656 [==============================] - 371s 3ms/step - loss: 0.0462 - acc: 0.9824 - val_loss: 0.0501 - val_acc: 0.9807\n",
            "\n",
            "Epoch 00018: val_loss did not improve from 0.05002\n",
            "Epoch 19/30\n",
            "127656/127656 [==============================] - 371s 3ms/step - loss: 0.0457 - acc: 0.9825 - val_loss: 0.0501 - val_acc: 0.9806\n",
            "\n",
            "Epoch 00019: val_loss did not improve from 0.05002\n",
            "Restoring model weights from the end of the best epoch\n",
            "Epoch 00019: early stopping\n"
          ],
          "name": "stdout"
        }
      ]
    },
    {
      "cell_type": "code",
      "metadata": {
        "id": "ruseJr2Jq67s",
        "colab_type": "code",
        "outputId": "d88cdde4-75a7-4252-ccdf-2a1c6432c375",
        "colab": {
          "base_uri": "https://localhost:8080/",
          "height": 295
        }
      },
      "source": [
        "def plot_loss(history):\n",
        "    plt.plot(history.history['loss'])\n",
        "    plt.plot(history.history['val_loss'])\n",
        "    plt.title('Model Loss')\n",
        "    plt.ylabel('loss')\n",
        "    plt.xlabel('epoch')\n",
        "    plt.legend(['Train, Test'], loc=0)\n",
        "    \n",
        "def plot_acc(history):\n",
        "    plt.plot(history.history['acc'])\n",
        "    plt.plot(history.history['val_acc'])\n",
        "    plt.title('Model accuracy')\n",
        "    plt.ylabel('Accuracy')\n",
        "    plt.xlabel('epoch')\n",
        "    plt.legend(['Train, Test'], loc=0)\n",
        "\n",
        "plot_acc(history)\n",
        "\n"
      ],
      "execution_count": 13,
      "outputs": [
        {
          "output_type": "display_data",
          "data": {
            "image/png": "[encoded data removed]",
            "text/plain": [
              "<Figure size 432x288 with 1 Axes>"
            ]
          },
          "metadata": {
            "tags": []
          }
        }
      ]
    },
    {
      "cell_type": "code",
      "metadata": {
        "id": "Zp3Z5zy2q65e",
        "colab_type": "code",
        "outputId": "2837a001-33e5-44c7-e22d-ffff396c1933",
        "colab": {
          "base_uri": "https://localhost:8080/",
          "height": 295
        }
      },
      "source": [
        "plot_acc(history)"
      ],
      "execution_count": 14,
      "outputs": [
        {
          "output_type": "display_data",
          "data": {
            "image/png": "[encoded data removed]",
            "text/plain": [
              "<Figure size 432x288 with 1 Axes>"
            ]
          },
          "metadata": {
            "tags": []
          }
        }
      ]
    },
    {
      "cell_type": "code",
      "metadata": {
        "id": "D33ETMvROS12",
        "colab_type": "code",
        "colab": {}
      },
      "source": [
        "list_classes = ['toxic', 'severe_toxic', 'obscene', 'threat','insult', 'identity_hate']"
      ],
      "execution_count": 0,
      "outputs": []
    },
    {
      "cell_type": "code",
      "metadata": {
        "id": "A_dFImXqq627",
        "colab_type": "code",
        "outputId": "1bfc282f-c864-4f0b-cdee-067d919be031",
        "colab": {
          "base_uri": "https://localhost:8080/",
          "height": 35
        }
      },
      "source": [
        "\n",
        "with tf.Session() as session:\n",
        "    K.set_session(session)\n",
        "    session.run(tf.global_variables_initializer())\n",
        "    session.run(tf.tables_initializer())\n",
        "    model.load_weights(\"/content/model.h5\")  \n",
        "\n",
        "    y_test2 = model.predict([test_X], batch_size=3072, verbose=1)\n",
        "    sample_submission = pd.read_csv('sample_submission.csv')\n",
        "    sample_submission[list_classes] = y_test2\n",
        "    sample_submission.to_csv('submission3.csv', index=False)"
      ],
      "execution_count": 17,
      "outputs": [
        {
          "output_type": "stream",
          "text": [
            "153164/153164 [==============================] - 353s 2ms/step\n"
          ],
          "name": "stdout"
        }
      ]
    }
  ]
}