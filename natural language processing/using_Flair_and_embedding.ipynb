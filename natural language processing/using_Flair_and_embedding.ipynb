{
  "nbformat": 4,
  "nbformat_minor": 0,
  "metadata": {
    "kernelspec": {
      "display_name": "Python 3",
      "language": "python",
      "name": "python3"
    },
    "language_info": {
      "codemirror_mode": {
        "name": "ipython",
        "version": 3
      },
      "file_extension": ".py",
      "mimetype": "text/x-python",
      "name": "python",
      "nbconvert_exporter": "python",
      "pygments_lexer": "ipython3",
      "version": "3.7.4"
    },
    "colab": {
      "name": "using Flair and embedding .ipynb",
      "provenance": [],
      "collapsed_sections": [
        "9Swpl6jnbciw",
        "snzo_-8Q2n1R",
        "VhTs8hIc2FjK",
        "pjH2zOZ_1mZX"
      ],
      "include_colab_link": true
    },
    "accelerator": "GPU"
  },
  "cells": [
    {
      "cell_type": "markdown",
      "metadata": {
        "id": "view-in-github",
        "colab_type": "text"
      },
      "source": [
        "<a href=\"https://colab.research.google.com/github/avinashnanda/CategoricalEncodingBenchmark/blob/master/natural%20language%20processing/using_Flair_and_embedding.ipynb\" target=\"_parent\"><img src=\"https://colab.research.google.com/assets/colab-badge.svg\" alt=\"Open In Colab\"/></a>"
      ]
    },
    {
      "cell_type": "code",
      "metadata": {
        "id": "Nvyx6lJVbcis",
        "colab_type": "code",
        "colab": {
          "base_uri": "https://localhost:8080/",
          "height": 35
        },
        "outputId": "d093d860-ed50-4bd4-c5e0-03f5da9a0ac8"
      },
      "source": [
        "#import modules\n",
        "import os.path\n",
        "import matplotlib.pyplot as plt\n",
        "from tqdm import tqdm\n",
        "import pandas as pd\n",
        "import warnings\n",
        "warnings.filterwarnings('ignore')\n",
        "%matplotlib inline\n",
        "import numpy as np\n",
        "from keras.preprocessing.text import Tokenizer\n",
        "from keras.preprocessing.sequence import pad_sequences\n",
        "from keras.layers import Dense, Input, LSTM, Embedding, Dropout, Activation, CuDNNGRU, Conv1D,GRU\n",
        "from keras.layers import Bidirectional, GlobalMaxPool1D\n",
        "from keras.models import Model\n",
        "from keras import initializers, regularizers, constraints, optimizers, layers\n",
        "from keras.callbacks import ModelCheckpoint\n",
        "from flair.data import Sentence\n",
        "from flair.embeddings import StackedEmbeddings\n",
        "\n",
        "from flair.embeddings.token import WordEmbeddings, FlairEmbeddings"
      ],
      "execution_count": 1,
      "outputs": [
        {
          "output_type": "stream",
          "text": [
            "Using TensorFlow backend.\n"
          ],
          "name": "stderr"
        }
      ]
    },
    {
      "cell_type": "markdown",
      "metadata": {
        "id": "9Swpl6jnbciw",
        "colab_type": "text"
      },
      "source": [
        "# load preprocessed data"
      ]
    },
    {
      "cell_type": "code",
      "metadata": {
        "id": "dK2vSXZmkXLY",
        "colab_type": "code",
        "colab": {
          "base_uri": "https://localhost:8080/",
          "height": 122
        },
        "outputId": "74e5ab37-d8a9-469d-a6f7-f4969a035104"
      },
      "source": [
        "## download the cleaned data from earlier word embedding pretrained notebook.\n",
        "\n",
        "from google.colab import drive\n",
        "drive.mount('/content/drive',force_remount=True)"
      ],
      "execution_count": null,
      "outputs": [
        {
          "output_type": "stream",
          "text": [
            "Go to this URL in a browser: https://accounts.google.com/o/oauth2/auth?client_id=947318989803-6bn6qk8qdgf4n4g3pfee6491hc0brc4i.apps.googleusercontent.com&redirect_uri=urn%3aietf%3awg%3aoauth%3a2.0%3aoob&response_type=code&scope=email%20https%3a%2f%2fwww.googleapis.com%2fauth%2fdocs.test%20https%3a%2f%2fwww.googleapis.com%2fauth%2fdrive%20https%3a%2f%2fwww.googleapis.com%2fauth%2fdrive.photos.readonly%20https%3a%2f%2fwww.googleapis.com%2fauth%2fpeopleapi.readonly\n",
            "\n",
            "Enter your authorization code:\n",
            "··········\n",
            "Mounted at /content/drive\n"
          ],
          "name": "stdout"
        }
      ]
    },
    {
      "cell_type": "code",
      "metadata": {
        "id": "yknMVELzk8Vg",
        "colab_type": "code",
        "colab": {
          "base_uri": "https://localhost:8080/",
          "height": 51
        },
        "outputId": "2b74049e-4f81-4bc2-bd4c-c67ca5d2bda3"
      },
      "source": [
        "!cp \"/content/drive/My Drive/train_clean.csv\" /content\n",
        "!cp \"/content/drive/My Drive/test_clean.csv\" /content"
      ],
      "execution_count": null,
      "outputs": [
        {
          "output_type": "stream",
          "text": [
            "cp: error reading '/content/drive/My Drive/train_clean.csv': Input/output error\n",
            "cp: error reading '/content/drive/My Drive/test_clean.csv': Input/output error\n"
          ],
          "name": "stdout"
        }
      ]
    },
    {
      "cell_type": "code",
      "metadata": {
        "id": "IIHa3X7Cbciw",
        "colab_type": "code",
        "colab": {}
      },
      "source": [
        "train = pd.read_csv(\"/content/train_clean.csv\")\n",
        "test_df = pd.read_csv(\"/content/test_clean.csv\")"
      ],
      "execution_count": 2,
      "outputs": []
    },
    {
      "cell_type": "code",
      "metadata": {
        "id": "HPF9gUgxbciz",
        "colab_type": "code",
        "colab": {}
      },
      "source": [
        "from sklearn.model_selection import train_test_split\n",
        "train_df,val_df = train_test_split(train, test_size=0.20,random_state=2)"
      ],
      "execution_count": 3,
      "outputs": []
    },
    {
      "cell_type": "code",
      "metadata": {
        "id": "2-R3eirXbci1",
        "colab_type": "code",
        "colab": {}
      },
      "source": [
        "## some config values \n",
        "embed_size = 3072 # how big is each word vector\n",
        "max_features = 50000 # how many unique words to use (i.e num rows in embedding vector)\n",
        "maxlen = 100 # max number of words in a question to use\n",
        "\n",
        "## fill up the missing values\n",
        "train_X = train_df[\"clean_text\"].fillna(\"_na_\").values\n",
        "val_X = val_df[\"clean_text\"].fillna(\"_na_\").values\n",
        "test_X = test_df[\"clean_text\"].fillna(\"_na_\").values\n",
        "\n",
        "## Tokenize the sentences\n",
        "tokenizer = Tokenizer(num_words=max_features)\n",
        "tokenizer.fit_on_texts(list(train_X))\n",
        "train_X = tokenizer.texts_to_sequences(train_X)\n",
        "val_X = tokenizer.texts_to_sequences(val_X)\n",
        "test_X = tokenizer.texts_to_sequences(test_X)\n",
        "\n",
        "## Pad the sentences \n",
        "train_X = pad_sequences(train_X, maxlen=maxlen)\n",
        "val_X = pad_sequences(val_X, maxlen=maxlen)\n",
        "test_X = pad_sequences(test_X, maxlen=maxlen)\n",
        "\n",
        "## Get the target values\n",
        "train_y = train_df[['toxic', 'severe_toxic', 'obscene', 'threat','insult', 'identity_hate']].values\n",
        "val_y = val_df[['toxic', 'severe_toxic', 'obscene', 'threat','insult', 'identity_hate']].values"
      ],
      "execution_count": 4,
      "outputs": []
    },
    {
      "cell_type": "markdown",
      "metadata": {
        "id": "snzo_-8Q2n1R",
        "colab_type": "text"
      },
      "source": [
        "# **Glove flair embeddings**\n"
      ]
    },
    {
      "cell_type": "code",
      "metadata": {
        "id": "HMYDCntEo5_c",
        "colab_type": "code",
        "colab": {}
      },
      "source": [
        "\n",
        "# init standard GloVe embedding\n",
        "glove_embedding = WordEmbeddings('glove')\n"
      ],
      "execution_count": null,
      "outputs": []
    },
    {
      "cell_type": "code",
      "metadata": {
        "id": "iQx29Lhcow-3",
        "colab_type": "code",
        "colab": {
          "base_uri": "https://localhost:8080/",
          "height": 34
        },
        "outputId": "48ddf0f7-23b8-404b-fccc-5403b549bc0b"
      },
      "source": [
        "vocabulary_size=len(tokenizer.word_index)+1\n",
        "embedding_matrix = np.zeros((vocabulary_size, embed_size))\n",
        "\n",
        "\n",
        "for word, i in tqdm(tokenizer.word_index.items()):\n",
        "    try:\n",
        "        word_sent = Sentence(word)\n",
        "        glove_embedding.embed(word_sent)\n",
        "        embedding_vector = word_sent[0].embedding.cpu().detach().numpy()\n",
        "        embedding_matrix[i] = embedding_vector\n",
        "    except KeyError:\n",
        "        embedding_matrix[i]=np.random.normal(0,np.sqrt(0.25),embed_size)"
      ],
      "execution_count": null,
      "outputs": [
        {
          "output_type": "stream",
          "text": [
            "100%|██████████| 172606/172606 [00:45<00:00, 3789.10it/s]\n"
          ],
          "name": "stderr"
        }
      ]
    },
    {
      "cell_type": "code",
      "metadata": {
        "id": "zeS0o6lzsye9",
        "colab_type": "code",
        "colab": {
          "base_uri": "https://localhost:8080/",
          "height": 408
        },
        "outputId": "4a8e29d7-ab99-4370-c4fa-400e96f881e8"
      },
      "source": [
        "inp = Input(shape=(maxlen,))\n",
        "x = Embedding(max_features, embed_size)(inp)\n",
        "x = Bidirectional(GRU(64, return_sequences=True))(x)\n",
        "x = GlobalMaxPool1D()(x)\n",
        "x = Dense(16, activation=\"relu\")(x)\n",
        "x = Dropout(0.1)(x)\n",
        "x = Dense(6, activation=\"sigmoid\")(x)\n",
        "model = Model(inputs=inp, outputs=x)\n",
        "model.compile(loss='binary_crossentropy', optimizer='adam', metrics=['accuracy'])\n",
        "\n",
        "print(model.summary())"
      ],
      "execution_count": null,
      "outputs": [
        {
          "output_type": "stream",
          "text": [
            "Model: \"model_1\"\n",
            "_________________________________________________________________\n",
            "Layer (type)                 Output Shape              Param #   \n",
            "=================================================================\n",
            "input_1 (InputLayer)         (None, 100)               0         \n",
            "_________________________________________________________________\n",
            "embedding_1 (Embedding)      (None, 100, 100)          5000000   \n",
            "_________________________________________________________________\n",
            "bidirectional_1 (Bidirection (None, 100, 128)          63360     \n",
            "_________________________________________________________________\n",
            "global_max_pooling1d_1 (Glob (None, 128)               0         \n",
            "_________________________________________________________________\n",
            "dense_1 (Dense)              (None, 16)                2064      \n",
            "_________________________________________________________________\n",
            "dropout_1 (Dropout)          (None, 16)                0         \n",
            "_________________________________________________________________\n",
            "dense_2 (Dense)              (None, 6)                 102       \n",
            "=================================================================\n",
            "Total params: 5,065,526\n",
            "Trainable params: 5,065,526\n",
            "Non-trainable params: 0\n",
            "_________________________________________________________________\n",
            "None\n"
          ],
          "name": "stdout"
        }
      ]
    },
    {
      "cell_type": "code",
      "metadata": {
        "id": "KiuiiE8ls_yp",
        "colab_type": "code",
        "colab": {}
      },
      "source": [
        "# saving only weights as keras is failing to load custom attention layer\n",
        "from keras.callbacks import ModelCheckpoint,EarlyStopping\n",
        "checkpoint = ModelCheckpoint(\n",
        "    'model.h5', \n",
        "    monitor='val_loss', \n",
        "    verbose=1, \n",
        "    save_best_only=True, \n",
        "    save_weights_only=True,\n",
        "    mode='auto'\n",
        ")\n",
        "\n",
        "early_stop = EarlyStopping(\n",
        "        monitor     = 'val_loss', \n",
        "        patience    = 3, \n",
        "        mode        = 'auto', \n",
        "        verbose     = 1,\n",
        "    restore_best_weights = True\n",
        "    \n",
        "    )"
      ],
      "execution_count": null,
      "outputs": []
    },
    {
      "cell_type": "code",
      "metadata": {
        "id": "mEqF4EcQtBPx",
        "colab_type": "code",
        "colab": {
          "base_uri": "https://localhost:8080/",
          "height": 612
        },
        "outputId": "9411b4e2-75dd-4616-9b75-0e8f9e7fe619"
      },
      "source": [
        "## Train the model \n",
        "\n",
        "history =  model.fit(train_X,train_y, batch_size=2048, epochs=10,validation_data=(val_X, val_y),callbacks = [checkpoint,early_stop])\n"
      ],
      "execution_count": null,
      "outputs": [
        {
          "output_type": "stream",
          "text": [
            "Train on 127656 samples, validate on 31915 samples\n",
            "Epoch 1/10\n",
            "127656/127656 [==============================] - 51s 403us/step - loss: 0.2875 - accuracy: 0.9044 - val_loss: 0.1403 - val_accuracy: 0.9634\n",
            "\n",
            "Epoch 00001: val_loss improved from inf to 0.14034, saving model to model.h5\n",
            "Epoch 2/10\n",
            "127656/127656 [==============================] - 51s 401us/step - loss: 0.1632 - accuracy: 0.9486 - val_loss: 0.1049 - val_accuracy: 0.9633\n",
            "\n",
            "Epoch 00002: val_loss improved from 0.14034 to 0.10488, saving model to model.h5\n",
            "Epoch 3/10\n",
            "127656/127656 [==============================] - 51s 403us/step - loss: 0.1008 - accuracy: 0.9658 - val_loss: 0.0660 - val_accuracy: 0.9749\n",
            "\n",
            "Epoch 00003: val_loss improved from 0.10488 to 0.06596, saving model to model.h5\n",
            "Epoch 4/10\n",
            "127656/127656 [==============================] - 51s 400us/step - loss: 0.0711 - accuracy: 0.9744 - val_loss: 0.0564 - val_accuracy: 0.9800\n",
            "\n",
            "Epoch 00004: val_loss improved from 0.06596 to 0.05636, saving model to model.h5\n",
            "Epoch 5/10\n",
            "127656/127656 [==============================] - 51s 401us/step - loss: 0.0581 - accuracy: 0.9797 - val_loss: 0.0558 - val_accuracy: 0.9808\n",
            "\n",
            "Epoch 00005: val_loss improved from 0.05636 to 0.05580, saving model to model.h5\n",
            "Epoch 6/10\n",
            "127656/127656 [==============================] - 51s 398us/step - loss: 0.0519 - accuracy: 0.9814 - val_loss: 0.0564 - val_accuracy: 0.9807\n",
            "\n",
            "Epoch 00006: val_loss did not improve from 0.05580\n",
            "Epoch 7/10\n",
            "127656/127656 [==============================] - 51s 400us/step - loss: 0.0483 - accuracy: 0.9824 - val_loss: 0.0576 - val_accuracy: 0.9807\n",
            "\n",
            "Epoch 00007: val_loss did not improve from 0.05580\n",
            "Epoch 8/10\n",
            "127656/127656 [==============================] - 50s 393us/step - loss: 0.0452 - accuracy: 0.9834 - val_loss: 0.0594 - val_accuracy: 0.9806\n",
            "\n",
            "Epoch 00008: val_loss did not improve from 0.05580\n",
            "Restoring model weights from the end of the best epoch\n",
            "Epoch 00008: early stopping\n"
          ],
          "name": "stdout"
        }
      ]
    },
    {
      "cell_type": "code",
      "metadata": {
        "id": "ApzWc_Jzz86r",
        "colab_type": "code",
        "colab": {
          "base_uri": "https://localhost:8080/",
          "height": 295
        },
        "outputId": "809f8b99-9cad-43ca-a777-a54a27cabf0c"
      },
      "source": [
        "def plot_loss(history):\n",
        "    plt.plot(history.history['loss'])\n",
        "    plt.plot(history.history['val_loss'])\n",
        "    plt.title('Model Loss')\n",
        "    plt.ylabel('loss')\n",
        "    plt.xlabel('epoch')\n",
        "    plt.legend(['Train, Test'], loc=0)\n",
        "    \n",
        "def plot_acc(history):\n",
        "    plt.plot(history.history['accuracy'])\n",
        "    plt.plot(history.history['val_accuracy'])\n",
        "    plt.title('Model accuracy')\n",
        "    plt.ylabel('Accuracy')\n",
        "    plt.xlabel('epoch')\n",
        "    plt.legend(['Train, Test'], loc=0)\n",
        "\n",
        "plot_loss(history)\n",
        "plt.show()\n"
      ],
      "execution_count": null,
      "outputs": [
        {
          "output_type": "display_data",
          "data": {
            "image/png": "[encoded data removed]",
            "text/plain": [
              "<Figure size 432x288 with 1 Axes>"
            ]
          },
          "metadata": {
            "tags": [],
            "needs_background": "light"
          }
        }
      ]
    },
    {
      "cell_type": "code",
      "metadata": {
        "id": "P3OC1k-a0CFr",
        "colab_type": "code",
        "colab": {
          "base_uri": "https://localhost:8080/",
          "height": 295
        },
        "outputId": "b4654526-840e-4021-eaaa-6831c31b9c2f"
      },
      "source": [
        "plot_acc(history)"
      ],
      "execution_count": null,
      "outputs": [
        {
          "output_type": "display_data",
          "data": {
            "image/png": "[encoded data removed]",
            "text/plain": [
              "<Figure size 432x288 with 1 Axes>"
            ]
          },
          "metadata": {
            "tags": [],
            "needs_background": "light"
          }
        }
      ]
    },
    {
      "cell_type": "markdown",
      "metadata": {
        "id": "VhTs8hIc2FjK",
        "colab_type": "text"
      },
      "source": [
        "# **Stacked flair embeddings**"
      ]
    },
    {
      "cell_type": "code",
      "metadata": {
        "id": "h6r9YAeP7qCt",
        "colab_type": "code",
        "colab": {}
      },
      "source": [
        "# init standard GloVe embedding\n",
        "glove_embedding = WordEmbeddings('glove')\n",
        "\n",
        "# init Flair forward and backwards embeddings\n",
        "flair_embedding_forward = FlairEmbeddings('news-forward')\n",
        "flair_embedding_backward = FlairEmbeddings('news-backward')\n",
        "\n",
        "\n",
        "\n",
        "# create a StackedEmbedding object that combines glove and forward/backward flair embeddings\n",
        "stacked_embeddings = StackedEmbeddings([glove_embedding,\n",
        "                                        flair_embedding_forward,\n",
        "                                        flair_embedding_backward\n",
        "                                       ])"
      ],
      "execution_count": 9,
      "outputs": []
    },
    {
      "cell_type": "code",
      "metadata": {
        "id": "j3n2PLFY2KCU",
        "colab_type": "code",
        "colab": {
          "base_uri": "https://localhost:8080/",
          "height": 0
        },
        "outputId": "0ea11aad-909f-4bbf-f918-1b0afd7f1a6d"
      },
      "source": [
        "vocabulary_size=len(tokenizer.word_index)+1\n",
        "embedding_matrix = np.zeros((vocabulary_size, embed_size))\n",
        "\n",
        "\n",
        "for word, i in tqdm(tokenizer.word_index.items()):\n",
        "    try:\n",
        "        word_sent = Sentence(word)\n",
        "        stacked_embeddings.embed(word_sent)\n",
        "        embedding_vector = word_sent[0].embedding.cpu().detach().numpy()\n",
        "        embedding_matrix[i] = embedding_vector\n",
        "    except KeyError:\n",
        "        embedding_matrix[i]=np.random.normal(0,np.sqrt(0.25),embed_size)"
      ],
      "execution_count": 10,
      "outputs": [
        {
          "output_type": "stream",
          "text": [
            "100%|██████████| 172606/172606 [48:57<00:00, 58.76it/s]\n"
          ],
          "name": "stderr"
        }
      ]
    },
    {
      "cell_type": "code",
      "metadata": {
        "id": "nNsU0Gt5PtD0",
        "colab_type": "code",
        "colab": {
          "base_uri": "https://localhost:8080/",
          "height": 0
        },
        "outputId": "553cd40f-2651-4e48-d802-db0d9ecf54f6"
      },
      "source": [
        "inp = Input(shape=(maxlen,))\n",
        "x = Embedding(max_features, embed_size)(inp)\n",
        "x = Bidirectional(GRU(64, return_sequences=True))(x)\n",
        "x = GlobalMaxPool1D()(x)\n",
        "x = Dense(16, activation=\"relu\")(x)\n",
        "x = Dropout(0.1)(x)\n",
        "x = Dense(6, activation=\"sigmoid\")(x)\n",
        "model = Model(inputs=inp, outputs=x)\n",
        "model.compile(loss='binary_crossentropy', optimizer='adam', metrics=['accuracy'])\n",
        "\n",
        "print(model.summary())"
      ],
      "execution_count": 11,
      "outputs": [
        {
          "output_type": "stream",
          "text": [
            "Model: \"model_1\"\n",
            "_________________________________________________________________\n",
            "Layer (type)                 Output Shape              Param #   \n",
            "=================================================================\n",
            "input_1 (InputLayer)         (None, 100)               0         \n",
            "_________________________________________________________________\n",
            "embedding_1 (Embedding)      (None, 100, 4196)         209800000 \n",
            "_________________________________________________________________\n",
            "bidirectional_1 (Bidirection (None, 100, 128)          1636224   \n",
            "_________________________________________________________________\n",
            "global_max_pooling1d_1 (Glob (None, 128)               0         \n",
            "_________________________________________________________________\n",
            "dense_1 (Dense)              (None, 16)                2064      \n",
            "_________________________________________________________________\n",
            "dropout_1 (Dropout)          (None, 16)                0         \n",
            "_________________________________________________________________\n",
            "dense_2 (Dense)              (None, 6)                 102       \n",
            "=================================================================\n",
            "Total params: 211,438,390\n",
            "Trainable params: 211,438,390\n",
            "Non-trainable params: 0\n",
            "_________________________________________________________________\n",
            "None\n"
          ],
          "name": "stdout"
        }
      ]
    },
    {
      "cell_type": "code",
      "metadata": {
        "id": "MtJ1o2V2Pxh2",
        "colab_type": "code",
        "colab": {}
      },
      "source": [
        "# saving only weights as keras is failing to load custom attention layer\n",
        "from keras.callbacks import ModelCheckpoint,EarlyStopping\n",
        "checkpoint = ModelCheckpoint(\n",
        "    'model.h5', \n",
        "    monitor='val_loss', \n",
        "    verbose=1, \n",
        "    save_best_only=True, \n",
        "    save_weights_only=True,\n",
        "    mode='auto'\n",
        ")\n",
        "\n",
        "early_stop = EarlyStopping(\n",
        "        monitor     = 'val_loss', \n",
        "        patience    = 3, \n",
        "        mode        = 'auto', \n",
        "        verbose     = 1,\n",
        "    restore_best_weights = True\n",
        "    \n",
        "    )"
      ],
      "execution_count": 12,
      "outputs": []
    },
    {
      "cell_type": "code",
      "metadata": {
        "id": "Rsu9gyczP14O",
        "colab_type": "code",
        "colab": {
          "base_uri": "https://localhost:8080/",
          "height": 0
        },
        "outputId": "39f580a5-12ab-4f20-8407-fe24342920da"
      },
      "source": [
        "## Train the model \n",
        "\n",
        "history =  model.fit(train_X,train_y, batch_size=256, epochs=10,validation_data=(val_X, val_y),callbacks = [checkpoint,early_stop])\n"
      ],
      "execution_count": 13,
      "outputs": [
        {
          "output_type": "stream",
          "text": [
            "Train on 127656 samples, validate on 31915 samples\n",
            "Epoch 1/10\n",
            "127656/127656 [==============================] - 534s 4ms/step - loss: 0.0884 - accuracy: 0.9692 - val_loss: 0.0499 - val_accuracy: 0.9816\n",
            "\n",
            "Epoch 00001: val_loss improved from inf to 0.04989, saving model to model.h5\n",
            "Epoch 2/10\n",
            "127656/127656 [==============================] - 535s 4ms/step - loss: 0.0436 - accuracy: 0.9834 - val_loss: 0.0498 - val_accuracy: 0.9819\n",
            "\n",
            "Epoch 00002: val_loss improved from 0.04989 to 0.04983, saving model to model.h5\n",
            "Epoch 3/10\n",
            "127656/127656 [==============================] - 534s 4ms/step - loss: 0.0337 - accuracy: 0.9867 - val_loss: 0.0547 - val_accuracy: 0.9814\n",
            "\n",
            "Epoch 00003: val_loss did not improve from 0.04983\n",
            "Epoch 4/10\n",
            "127656/127656 [==============================] - 531s 4ms/step - loss: 0.0273 - accuracy: 0.9893 - val_loss: 0.0591 - val_accuracy: 0.9806\n",
            "\n",
            "Epoch 00004: val_loss did not improve from 0.04983\n",
            "Epoch 5/10\n",
            "127656/127656 [==============================] - 534s 4ms/step - loss: 0.0221 - accuracy: 0.9915 - val_loss: 0.0629 - val_accuracy: 0.9800\n",
            "\n",
            "Epoch 00005: val_loss did not improve from 0.04983\n",
            "Restoring model weights from the end of the best epoch\n",
            "Epoch 00005: early stopping\n"
          ],
          "name": "stdout"
        }
      ]
    },
    {
      "cell_type": "markdown",
      "metadata": {
        "id": "pjH2zOZ_1mZX",
        "colab_type": "text"
      },
      "source": [
        "# **Bert embeddings**"
      ]
    },
    {
      "cell_type": "code",
      "metadata": {
        "id": "rQmy90xS1Ue4",
        "colab_type": "code",
        "colab": {
          "base_uri": "https://localhost:8080/",
          "height": 195
        },
        "outputId": "9f570e8d-3a17-431d-b26d-789f00dc17a2"
      },
      "source": [
        "from flair.embeddings import TransformerWordEmbeddings\n",
        "\n",
        "# init embedding\n",
        "bertembedding = TransformerWordEmbeddings('bert-base-uncased')\n",
        "\n",
        "# create a sentence\n",
        "sentence = Sentence('The grass is green .')\n",
        "\n",
        "# embed words in sentence\n",
        "bertembedding.embed(sentence)\n",
        "\n",
        "# now check out the embedded tokens.\n",
        "for token in sentence:\n",
        "    print(token)\n",
        "    print(token.embedding.shape)"
      ],
      "execution_count": 8,
      "outputs": [
        {
          "output_type": "stream",
          "text": [
            "Token: 1 The\n",
            "torch.Size([3072])\n",
            "Token: 2 grass\n",
            "torch.Size([3072])\n",
            "Token: 3 is\n",
            "torch.Size([3072])\n",
            "Token: 4 green\n",
            "torch.Size([3072])\n",
            "Token: 5 .\n",
            "torch.Size([3072])\n"
          ],
          "name": "stdout"
        }
      ]
    },
    {
      "cell_type": "code",
      "metadata": {
        "id": "7z1ul9r0271w",
        "colab_type": "code",
        "colab": {
          "base_uri": "https://localhost:8080/",
          "height": 35
        },
        "outputId": "0157aa3d-e799-4fd8-f07e-f7f6f08f40ca"
      },
      "source": [
        "vocabulary_size=len(tokenizer.word_index)+1\n",
        "embedding_matrix = np.zeros((vocabulary_size, embed_size))\n",
        "\n",
        "\n",
        "for word, i in tqdm(tokenizer.word_index.items()):\n",
        "    try:\n",
        "        word_sent = Sentence(word)\n",
        "        bertembedding.embed(word_sent)\n",
        "        embedding_vector = word_sent[0].embedding.cpu().detach().numpy()\n",
        "        embedding_matrix[i] = embedding_vector\n",
        "    except KeyError:\n",
        "        embedding_matrix[i]=np.random.normal(0,np.sqrt(0.25),embed_size)"
      ],
      "execution_count": 10,
      "outputs": [
        {
          "output_type": "stream",
          "text": [
            "100%|██████████| 172606/172606 [59:16<00:00, 48.54it/s]\n"
          ],
          "name": "stderr"
        }
      ]
    },
    {
      "cell_type": "code",
      "metadata": {
        "id": "BrZZ9dQvFwwk",
        "colab_type": "code",
        "colab": {
          "base_uri": "https://localhost:8080/",
          "height": 426
        },
        "outputId": "4c006b13-18b6-4aac-8bca-64abedef8842"
      },
      "source": [
        "inp = Input(shape=(maxlen,))\n",
        "x = Embedding(max_features, embed_size)(inp)\n",
        "x = Bidirectional(GRU(64, return_sequences=True))(x)\n",
        "x = GlobalMaxPool1D()(x)\n",
        "x = Dense(16, activation=\"relu\")(x)\n",
        "x = Dropout(0.1)(x)\n",
        "x = Dense(6, activation=\"sigmoid\")(x)\n",
        "model = Model(inputs=inp, outputs=x)\n",
        "model.compile(loss='binary_crossentropy', optimizer='adam', metrics=['accuracy'])\n",
        "\n",
        "print(model.summary())"
      ],
      "execution_count": 11,
      "outputs": [
        {
          "output_type": "stream",
          "text": [
            "Model: \"model_1\"\n",
            "_________________________________________________________________\n",
            "Layer (type)                 Output Shape              Param #   \n",
            "=================================================================\n",
            "input_1 (InputLayer)         (None, 100)               0         \n",
            "_________________________________________________________________\n",
            "embedding_1 (Embedding)      (None, 100, 3072)         153600000 \n",
            "_________________________________________________________________\n",
            "bidirectional_1 (Bidirection (None, 100, 128)          1204608   \n",
            "_________________________________________________________________\n",
            "global_max_pooling1d_1 (Glob (None, 128)               0         \n",
            "_________________________________________________________________\n",
            "dense_1 (Dense)              (None, 16)                2064      \n",
            "_________________________________________________________________\n",
            "dropout_1 (Dropout)          (None, 16)                0         \n",
            "_________________________________________________________________\n",
            "dense_2 (Dense)              (None, 6)                 102       \n",
            "=================================================================\n",
            "Total params: 154,806,774\n",
            "Trainable params: 154,806,774\n",
            "Non-trainable params: 0\n",
            "_________________________________________________________________\n",
            "None\n"
          ],
          "name": "stdout"
        }
      ]
    },
    {
      "cell_type": "code",
      "metadata": {
        "id": "fkx3hMxJF1dJ",
        "colab_type": "code",
        "colab": {}
      },
      "source": [
        "# saving only weights as keras is failing to load custom attention layer\n",
        "from keras.callbacks import ModelCheckpoint,EarlyStopping\n",
        "checkpoint = ModelCheckpoint(\n",
        "    'model.h5', \n",
        "    monitor='val_loss', \n",
        "    verbose=1, \n",
        "    save_best_only=True, \n",
        "    save_weights_only=True,\n",
        "    mode='auto'\n",
        ")\n",
        "\n",
        "early_stop = EarlyStopping(\n",
        "        monitor     = 'val_loss', \n",
        "        patience    = 3, \n",
        "        mode        = 'auto', \n",
        "        verbose     = 1,\n",
        "    restore_best_weights = True\n",
        "    \n",
        "    )"
      ],
      "execution_count": 12,
      "outputs": []
    },
    {
      "cell_type": "code",
      "metadata": {
        "id": "MQHvv2A9F4hB",
        "colab_type": "code",
        "colab": {
          "base_uri": "https://localhost:8080/",
          "height": 426
        },
        "outputId": "aa84a8e0-55af-4f28-dabc-ee8c18a4efdf"
      },
      "source": [
        "## Train the model \n",
        "\n",
        "history =  model.fit(train_X,train_y, batch_size=384, epochs=10,validation_data=(val_X, val_y),callbacks = [checkpoint,early_stop])\n"
      ],
      "execution_count": 13,
      "outputs": [
        {
          "output_type": "stream",
          "text": [
            "Train on 127656 samples, validate on 31915 samples\n",
            "Epoch 1/10\n",
            "127656/127656 [==============================] - 349s 3ms/step - loss: 0.1099 - accuracy: 0.9585 - val_loss: 0.0529 - val_accuracy: 0.9810\n",
            "\n",
            "Epoch 00001: val_loss improved from inf to 0.05285, saving model to model.h5\n",
            "Epoch 2/10\n",
            "127656/127656 [==============================] - 347s 3ms/step - loss: 0.0474 - accuracy: 0.9824 - val_loss: 0.0487 - val_accuracy: 0.9820\n",
            "\n",
            "Epoch 00002: val_loss improved from 0.05285 to 0.04868, saving model to model.h5\n",
            "Epoch 3/10\n",
            "127656/127656 [==============================] - 348s 3ms/step - loss: 0.0379 - accuracy: 0.9854 - val_loss: 0.0519 - val_accuracy: 0.9820\n",
            "\n",
            "Epoch 00003: val_loss did not improve from 0.04868\n",
            "Epoch 4/10\n",
            "127656/127656 [==============================] - 348s 3ms/step - loss: 0.0316 - accuracy: 0.9878 - val_loss: 0.0544 - val_accuracy: 0.9816\n",
            "\n",
            "Epoch 00004: val_loss did not improve from 0.04868\n",
            "Epoch 5/10\n",
            "127656/127656 [==============================] - 342s 3ms/step - loss: 0.0270 - accuracy: 0.9894 - val_loss: 0.0585 - val_accuracy: 0.9815\n",
            "\n",
            "Epoch 00005: val_loss did not improve from 0.04868\n",
            "Restoring model weights from the end of the best epoch\n",
            "Epoch 00005: early stopping\n"
          ],
          "name": "stdout"
        }
      ]
    },
    {
      "cell_type": "code",
      "metadata": {
        "id": "5yV_ACc3Le-N",
        "colab_type": "code",
        "colab": {
          "base_uri": "https://localhost:8080/",
          "height": 295
        },
        "outputId": "207ae0d7-8f97-4020-883c-89d365066cfc"
      },
      "source": [
        "def plot_loss(history):\n",
        "    plt.plot(history.history['loss'])\n",
        "    plt.plot(history.history['val_loss'])\n",
        "    plt.title('Model Loss')\n",
        "    plt.ylabel('loss')\n",
        "    plt.xlabel('epoch')\n",
        "    plt.legend(['Train, Test'], loc=0)\n",
        "    \n",
        "def plot_acc(history):\n",
        "    plt.plot(history.history['accuracy'])\n",
        "    plt.plot(history.history['val_accuracy'])\n",
        "    plt.title('Model accuracy')\n",
        "    plt.ylabel('Accuracy')\n",
        "    plt.xlabel('epoch')\n",
        "    plt.legend(['Train, Test'], loc=0)\n",
        "\n",
        "plot_loss(history)\n",
        "plt.show()\n"
      ],
      "execution_count": 14,
      "outputs": [
        {
          "output_type": "display_data",
          "data": {
            "image/png": "[encoded data removed]",
            "text/plain": [
              "<Figure size 432x288 with 1 Axes>"
            ]
          },
          "metadata": {
            "tags": [],
            "needs_background": "light"
          }
        }
      ]
    },
    {
      "cell_type": "code",
      "metadata": {
        "id": "6eWBp7OuLi39",
        "colab_type": "code",
        "colab": {
          "base_uri": "https://localhost:8080/",
          "height": 295
        },
        "outputId": "043972bf-8b1f-415a-c8f3-db7d3bd0a778"
      },
      "source": [
        "plot_acc(history)"
      ],
      "execution_count": 15,
      "outputs": [
        {
          "output_type": "display_data",
          "data": {
            "image/png": "[encoded data removed]",
            "text/plain": [
              "<Figure size 432x288 with 1 Axes>"
            ]
          },
          "metadata": {
            "tags": [],
            "needs_background": "light"
          }
        }
      ]
    },
    {
      "cell_type": "markdown",
      "metadata": {
        "id": "_aLmIDT_P_ep",
        "colab_type": "text"
      },
      "source": [
        "# **document embeddings**"
      ]
    },
    {
      "cell_type": "code",
      "metadata": {
        "id": "3RtgAs05QFbL",
        "colab_type": "code",
        "colab": {}
      },
      "source": [
        "from flair.embeddings import WordEmbeddings, DocumentPoolEmbeddings\n",
        "\n",
        "# initialize the word embeddings\n",
        "glove_embedding = WordEmbeddings('glove')\n",
        "\n",
        "# initialize the document embeddings, mode = mean\n",
        "document_embeddings = DocumentPoolEmbeddings([glove_embedding])"
      ],
      "execution_count": 8,
      "outputs": []
    },
    {
      "cell_type": "code",
      "metadata": {
        "id": "KZpQYw9_QPAo",
        "colab_type": "code",
        "colab": {
          "base_uri": "https://localhost:8080/",
          "height": 35
        },
        "outputId": "7f46af50-e9ea-4654-8960-6bf2ef997be7"
      },
      "source": [
        "# create an example sentence\n",
        "sentence = Sentence('The grass is green . And the sky is blue .')\n",
        "\n",
        "# embed the sentence with our document embedding\n",
        "document_embeddings.embed(sentence)\n",
        "\n",
        "# now check out the embedded sentence.\n",
        "print(sentence.embedding.shape)"
      ],
      "execution_count": 18,
      "outputs": [
        {
          "output_type": "stream",
          "text": [
            "torch.Size([100])\n"
          ],
          "name": "stdout"
        }
      ]
    },
    {
      "cell_type": "code",
      "metadata": {
        "id": "Vv0TxU3DQXKR",
        "colab_type": "code",
        "colab": {
          "base_uri": "https://localhost:8080/",
          "height": 35
        },
        "outputId": "96b17a52-407b-40ee-eb34-d0a831a5e1d4"
      },
      "source": [
        "\n",
        "from flair.embeddings import TransformerDocumentEmbeddings\n",
        "\n",
        "# init embedding\n",
        "embedding = TransformerDocumentEmbeddings('bert-base-uncased')\n",
        "\n",
        "# create a sentence\n",
        "sentence = Sentence('The grass is green .')\n",
        "sentence1 = Sentence('The grass is green .')\n",
        "\n",
        "# embed the sentence\n",
        "embedding.embed(sentence)\n",
        "embedding.embed(sentence1)\n",
        "\n",
        "# now check out the embedded sentence.\n",
        "print(sentence.embedding.shape)"
      ],
      "execution_count": 9,
      "outputs": [
        {
          "output_type": "stream",
          "text": [
            "torch.Size([768])\n"
          ],
          "name": "stdout"
        }
      ]
    },
    {
      "cell_type": "code",
      "metadata": {
        "id": "I00F-1WTS4i6",
        "colab_type": "code",
        "colab": {}
      },
      "source": [
        "cos = torch.nn.CosineSimilarity(dim=0, eps=1e-6)"
      ],
      "execution_count": 32,
      "outputs": []
    },
    {
      "cell_type": "code",
      "metadata": {
        "id": "8_l1b-VGQXZI",
        "colab_type": "code",
        "colab": {
          "base_uri": "https://localhost:8080/",
          "height": 35
        },
        "outputId": "f7a55625-8dbb-49bf-df6f-d736b06710c1"
      },
      "source": [
        "cos(sentence.embedding, sentence1.embedding)"
      ],
      "execution_count": 33,
      "outputs": [
        {
          "output_type": "execute_result",
          "data": {
            "text/plain": [
              "tensor(0.9706, device='cuda:0', grad_fn=<DivBackward0>)"
            ]
          },
          "metadata": {
            "tags": []
          },
          "execution_count": 33
        }
      ]
    },
    {
      "cell_type": "code",
      "metadata": {
        "id": "JaqJNiryQXNR",
        "colab_type": "code",
        "colab": {
          "base_uri": "https://localhost:8080/",
          "height": 35
        },
        "outputId": "3c60f766-7b29-4fa2-bfb8-b28e54e0bd1b"
      },
      "source": [
        "cos(sentence.embedding, sentence1.embedding)"
      ],
      "execution_count": 35,
      "outputs": [
        {
          "output_type": "execute_result",
          "data": {
            "text/plain": [
              "tensor(0.8204, device='cuda:0', grad_fn=<DivBackward0>)"
            ]
          },
          "metadata": {
            "tags": []
          },
          "execution_count": 35
        }
      ]
    },
    {
      "cell_type": "code",
      "metadata": {
        "id": "ysZqj9uhQO3R",
        "colab_type": "code",
        "colab": {
          "base_uri": "https://localhost:8080/",
          "height": 35
        },
        "outputId": "eaa4a59b-2fa3-4fd7-ee3d-3505c40ea219"
      },
      "source": [
        "cos(sentence.embedding, sentence1.embedding)"
      ],
      "execution_count": 37,
      "outputs": [
        {
          "output_type": "execute_result",
          "data": {
            "text/plain": [
              "tensor(1., device='cuda:0', grad_fn=<DivBackward0>)"
            ]
          },
          "metadata": {
            "tags": []
          },
          "execution_count": 37
        }
      ]
    },
    {
      "cell_type": "markdown",
      "metadata": {
        "id": "O-WPSmHtvCKh",
        "colab_type": "text"
      },
      "source": [
        "# **Document embedding text classification**"
      ]
    },
    {
      "cell_type": "code",
      "metadata": {
        "id": "bvi5nwDHyVLy",
        "colab_type": "code",
        "colab": {}
      },
      "source": [
        "from flair.embeddings import TransformerDocumentEmbeddings\n",
        "\n",
        "# init embedding\n",
        "embedding = TransformerDocumentEmbeddings('bert-base-uncased')"
      ],
      "execution_count": 12,
      "outputs": []
    },
    {
      "cell_type": "code",
      "metadata": {
        "id": "NN75AO4LvH4q",
        "colab_type": "code",
        "colab": {}
      },
      "source": [
        "## fill up the missing values\n",
        "train_X = train_df[\"clean_text\"].fillna(\"_na_\").values\n",
        "val_X = val_df[\"clean_text\"].fillna(\"_na_\").values"
      ],
      "execution_count": 13,
      "outputs": []
    },
    {
      "cell_type": "code",
      "metadata": {
        "id": "ealcDgNdvBIK",
        "colab_type": "code",
        "colab": {}
      },
      "source": [
        "train_list=[]\n",
        "for x in tqdm(train_X):\n",
        "  doc_sent = Sentence(x)\n",
        "  embedding.embed(doc_sent)\n",
        "  train_list.append(doc_sent[0].embedding.cpu().detach().numpy())\n",
        " \n",
        "valid_list=[]\n",
        "for x in tqdm(val_X):\n",
        "  doc_sent = Sentence(x)\n",
        "  embedding.embed(doc_sent)\n",
        "  valid_list.append(doc_sent[0].embedding.cpu().detach().numpy())\n",
        " "
      ],
      "execution_count": null,
      "outputs": []
    },
    {
      "cell_type": "code",
      "metadata": {
        "id": "JveVvcRyvRc7",
        "colab_type": "code",
        "colab": {}
      },
      "source": [
        "train_data_np = np.asarray(train_list)\n",
        "valid_data_np = np.asarray(valid_list)"
      ],
      "execution_count": 159,
      "outputs": []
    },
    {
      "cell_type": "code",
      "metadata": {
        "id": "rk6DH13qviMq",
        "colab_type": "code",
        "colab": {}
      },
      "source": [
        "## Get the target values\n",
        "train_y = train_df[['toxic', 'severe_toxic', 'obscene', 'threat','insult', 'identity_hate']].values\n",
        "val_y = val_df[['toxic', 'severe_toxic', 'obscene', 'threat','insult', 'identity_hate']].values"
      ],
      "execution_count": 160,
      "outputs": []
    },
    {
      "cell_type": "code",
      "metadata": {
        "id": "YWofIZJNvlT3",
        "colab_type": "code",
        "colab": {
          "base_uri": "https://localhost:8080/",
          "height": 355
        },
        "outputId": "b7edb277-16c6-46be-ee19-f673245f0472"
      },
      "source": [
        "inputs = Input(shape=(768,))\n",
        "x = Dense(64, activation=\"relu\")(inputs)\n",
        "x = Dropout(0.1)(x)\n",
        "x = Dense(16, activation=\"relu\")(x)\n",
        "x = Dense(6, activation=\"sigmoid\")(x)\n",
        "model = Model(inputs=inputs, outputs=x)\n",
        "model.compile(loss='binary_crossentropy', optimizer='adam', metrics=['accuracy'])\n",
        "\n",
        "print(model.summary())"
      ],
      "execution_count": 169,
      "outputs": [
        {
          "output_type": "stream",
          "text": [
            "Model: \"model_21\"\n",
            "_________________________________________________________________\n",
            "Layer (type)                 Output Shape              Param #   \n",
            "=================================================================\n",
            "input_31 (InputLayer)        (None, 100)               0         \n",
            "_________________________________________________________________\n",
            "dense_71 (Dense)             (None, 64)                6464      \n",
            "_________________________________________________________________\n",
            "dropout_35 (Dropout)         (None, 64)                0         \n",
            "_________________________________________________________________\n",
            "dense_72 (Dense)             (None, 16)                1040      \n",
            "_________________________________________________________________\n",
            "dense_73 (Dense)             (None, 6)                 102       \n",
            "=================================================================\n",
            "Total params: 7,606\n",
            "Trainable params: 7,606\n",
            "Non-trainable params: 0\n",
            "_________________________________________________________________\n",
            "None\n"
          ],
          "name": "stdout"
        }
      ]
    },
    {
      "cell_type": "code",
      "metadata": {
        "id": "372TZPJowsLz",
        "colab_type": "code",
        "colab": {}
      },
      "source": [
        "# saving only weights as keras is failing to load custom attention layer\n",
        "from keras.callbacks import ModelCheckpoint,EarlyStopping\n",
        "checkpoint = ModelCheckpoint(\n",
        "    'model.h5', \n",
        "    monitor='val_loss', \n",
        "    verbose=1, \n",
        "    save_best_only=True, \n",
        "    save_weights_only=True,\n",
        "    mode='auto'\n",
        ")\n",
        "\n",
        "early_stop = EarlyStopping(\n",
        "        monitor     = 'val_loss', \n",
        "        patience    = 3, \n",
        "        mode        = 'auto', \n",
        "        verbose     = 1,\n",
        "    restore_best_weights = True\n",
        "    \n",
        "    )"
      ],
      "execution_count": 170,
      "outputs": []
    },
    {
      "cell_type": "code",
      "metadata": {
        "id": "_TQVzg73wzSc",
        "colab_type": "code",
        "colab": {
          "base_uri": "https://localhost:8080/",
          "height": 426
        },
        "outputId": "b9801e5b-336e-4ea7-c336-0f1e981cf273"
      },
      "source": [
        "## Train the model \n",
        "\n",
        "history =  model.fit(train_data_np,train_y, batch_size=384, epochs=10,validation_data=(valid_data_np, val_y),callbacks = [checkpoint,early_stop])\n"
      ],
      "execution_count": 171,
      "outputs": [
        {
          "output_type": "stream",
          "text": [
            "Train on 127656 samples, validate on 31915 samples\n",
            "Epoch 1/10\n",
            "127656/127656 [==============================] - 2s 16us/step - loss: 0.1633 - accuracy: 0.9579 - val_loss: 0.1411 - val_accuracy: 0.9633\n",
            "\n",
            "Epoch 00001: val_loss improved from inf to 0.14108, saving model to model.h5\n",
            "Epoch 2/10\n",
            "127656/127656 [==============================] - 2s 14us/step - loss: 0.1429 - accuracy: 0.9633 - val_loss: 0.1411 - val_accuracy: 0.9633\n",
            "\n",
            "Epoch 00002: val_loss improved from 0.14108 to 0.14106, saving model to model.h5\n",
            "Epoch 3/10\n",
            "127656/127656 [==============================] - 2s 14us/step - loss: 0.1426 - accuracy: 0.9633 - val_loss: 0.1411 - val_accuracy: 0.9633\n",
            "\n",
            "Epoch 00003: val_loss did not improve from 0.14106\n",
            "Epoch 4/10\n",
            "127656/127656 [==============================] - 2s 14us/step - loss: 0.1422 - accuracy: 0.9633 - val_loss: 0.1411 - val_accuracy: 0.9633\n",
            "\n",
            "Epoch 00004: val_loss did not improve from 0.14106\n",
            "Epoch 5/10\n",
            "127656/127656 [==============================] - 2s 14us/step - loss: 0.1421 - accuracy: 0.9633 - val_loss: 0.1411 - val_accuracy: 0.9633\n",
            "\n",
            "Epoch 00005: val_loss did not improve from 0.14106\n",
            "Restoring model weights from the end of the best epoch\n",
            "Epoch 00005: early stopping\n"
          ],
          "name": "stdout"
        }
      ]
    }
  ]
}